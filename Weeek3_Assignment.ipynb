{
  "nbformat": 4,
  "nbformat_minor": 0,
  "metadata": {
    "colab": {
      "name": "Weeek3 Assignment.ipynb",
      "provenance": [],
      "collapsed_sections": [],
      "authorship_tag": "ABX9TyMmUiIVUCQ6bHrNAXBOSWiX",
      "include_colab_link": true
    },
    "kernelspec": {
      "name": "python3",
      "display_name": "Python 3"
    },
    "language_info": {
      "name": "python"
    }
  },
  "cells": [
    {
      "cell_type": "markdown",
      "metadata": {
        "id": "view-in-github",
        "colab_type": "text"
      },
      "source": [
        "<a href=\"https://colab.research.google.com/github/abiramidevanathan/Week3-Assignment/blob/main/Weeek3_Assignment.ipynb\" target=\"_parent\"><img src=\"https://colab.research.google.com/assets/colab-badge.svg\" alt=\"Open In Colab\"/></a>"
      ]
    },
    {
      "cell_type": "markdown",
      "source": [
        "Q1.Calculate the Salary using Python Programming\n",
        "\n",
        "Read the question carefully and follow the input and output format. \n",
        "\n",
        "Karen got salary for this month and she spends 20% of her salary for food, 10% of her salary for entertainment and 10% of her salary for travel.If she takes care of other shifts she will get 4% of the salary per day. Given her salary and the number of shifts she handled.Calculate how much she can save in her pocket after spending all these?\n",
        "\n",
        "Input and Output Format : First line of input consists of an integer, salary. Next line correspond to the number of shifts. Output consist of an integer, \n",
        "which is saving.\n",
        " 1. Print \"Salary too large\" when salary is greater than 10000. \n",
        " 2. Print \"Shifts too small\" when the shift is less than 0. \n",
        " 3. Print \"Salary too small\" when the salary is less than 0.\n",
        "Include a function named calculateSal()  to calcuate salary and print saving.\n"
      ],
      "metadata": {
        "id": "ubl9Z_VfStBe"
      }
    },
    {
      "cell_type": "code",
      "source": [
        "def calculateSal():\n",
        "    salary=int(input(\"Enter the salary=\"))\n",
        "    if salary>10000:\n",
        "        print(\"Salary too large\")\n",
        "    elif salary<0 :\n",
        "        print(\"Salary too small\")\n",
        "    else:\n",
        "        shifts=int(input(\"enter the no of shifts=\"))\n",
        "        if shifts<0:\n",
        "            print(\"Shift too small\")\n",
        "        else:\n",
        "            savings=(salary*0.6)+(salary*0.04*shifts)\n",
        "            return savings"
      ],
      "metadata": {
        "id": "b92qyDtBS4G2"
      },
      "execution_count": null,
      "outputs": []
    },
    {
      "cell_type": "code",
      "source": [
        "from google.colab import drive\n",
        "drive.mount('/content/drive')"
      ],
      "metadata": {
        "id": "p6glcaaobXeF"
      },
      "execution_count": null,
      "outputs": []
    },
    {
      "cell_type": "code",
      "source": [
        "calculateSal()"
      ],
      "metadata": {
        "colab": {
          "base_uri": "https://localhost:8080/"
        },
        "id": "5bLIMMbaUMyW",
        "outputId": "1caff1d8-5447-48cb-e717-d457adc7f6fd"
      },
      "execution_count": null,
      "outputs": [
        {
          "name": "stdout",
          "output_type": "stream",
          "text": [
            "Enter the salary=7000\n",
            "enter the no of shifts=5\n"
          ]
        },
        {
          "output_type": "execute_result",
          "data": {
            "text/plain": [
              "5600.0"
            ]
          },
          "metadata": {},
          "execution_count": 5
        }
      ]
    },
    {
      "cell_type": "markdown",
      "source": [
        "Q2.write python code to read n as integer,from STDIN. For all non-negative integers i<n ,print i**2.\n",
        "\n",
        "Example\n",
        "The list of non-negative integers that are less than n=3 is[0,1,2]. Print the square of each number on a separate line.\n",
        "0\n",
        "1\n",
        "4\n",
        "\n",
        "Input Format\n",
        "The first and only line contains the integer,n .\n",
        "Output Format\n",
        "Print n lines, one corresponding to each i .\n"
      ],
      "metadata": {
        "id": "hVNTU6K4SNTt"
      }
    },
    {
      "cell_type": "code",
      "source": [
        "n=int(input(\"enter the value=\"))\n",
        "for i in range(n):    \n",
        "    print(i**2)"
      ],
      "metadata": {
        "colab": {
          "base_uri": "https://localhost:8080/"
        },
        "id": "TrCh7Jf6R2vN",
        "outputId": "434a2b67-19c4-4f80-b218-f92fb24bde11"
      },
      "execution_count": null,
      "outputs": [
        {
          "output_type": "stream",
          "name": "stdout",
          "text": [
            "enter the value=5\n",
            "0\n",
            "1\n",
            "4\n",
            "9\n",
            "16\n"
          ]
        }
      ]
    },
    {
      "cell_type": "markdown",
      "source": [
        "Q3.An extra day is added to the calendar almost every four years as February 29, and the day is called a leap day. It corrects the calendar for the fact that our planet takes approximately 365.25 days to orbit the sun. A leap year contains a leap day.\n",
        "\n",
        "In the Gregorian calendar, three conditions are used to identify leap years:\n",
        "The year can be evenly divided by 4, is a leap year, unless:\n",
        "The year can be evenly divided by 100, it is NOT a leap year, unless:\n",
        "The year is also evenly divisible by 400. Then it is a leap year.\n",
        "This means that in the Gregorian calendar, the years 2000 and 2400 are leap years, while 1800, 1900, 2100, 2200, 2300 and 2500 are NOT leap years. Source\n",
        "\n",
        "Task\n",
        "Given a year, determine whether it is a leap year. If it is a leap year, return the Boolean True, otherwise return False.\n",
        "\n",
        "Note that the code stub provided reads from STDIN and passes arguments to the is_leap function. It is only necessary to complete the is_leap function.\n",
        "\n",
        "Input Format\n",
        "Read , the year as integer to test.\n",
        "Output Format\n",
        "The function must return a Boolean value (True/False)\n"
      ],
      "metadata": {
        "id": "37mj0pdaQr8B"
      }
    },
    {
      "cell_type": "code",
      "execution_count": null,
      "metadata": {
        "colab": {
          "base_uri": "https://localhost:8080/"
        },
        "id": "Hhx_kRfEOJ7A",
        "outputId": "0b5af2e3-8f31-418b-a08b-1024331e71e3"
      },
      "outputs": [
        {
          "output_type": "stream",
          "name": "stdout",
          "text": [
            "Enter the year=1990\n",
            "False\n"
          ]
        }
      ],
      "source": [
        "n=int(input(\"Enter the year=\"))\n",
        "if n%4==0 or n%400==0:\n",
        "  print(\"True\")\n",
        "else:\n",
        "  print(\"False\")"
      ]
    }
  ]
}